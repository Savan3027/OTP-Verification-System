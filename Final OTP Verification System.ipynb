{
 "cells": [
  {
   "cell_type": "code",
   "execution_count": null,
   "id": "349123d7",
   "metadata": {},
   "outputs": [],
   "source": [
    "# Import the smtplib module to handle sending emails using the Simple Mail Transfer Protocol\n",
    "\n",
    "import smtplib\n",
    "\n",
    "# Import the random module to generate a random OTP\n",
    "\n",
    "import random\n",
    "\n",
    "# Import MIMEText class to create the body of the email in plain text format\n",
    "\n",
    "from email.mime.text import MIMEText\n"
   ]
  },
  {
   "cell_type": "code",
   "execution_count": null,
   "id": "5abf7ebf",
   "metadata": {},
   "outputs": [],
   "source": [
    "# Define the SMTP server address for Gmail\n",
    "\n",
    "smtp_server = 'smtp.gmail.com'\n",
    "\n",
    "# Define the port number used for TLS \n",
    "\n",
    "port = 587  \n",
    "\n",
    "# Create an SMTP client session object to connect to the specified server and port\n",
    "\n",
    "server = smtplib.SMTP(smtp_server,port)"
   ]
  },
  {
   "cell_type": "code",
   "execution_count": null,
   "id": "2f91866f",
   "metadata": {},
   "outputs": [],
   "source": [
    "# Upgrade the connection to a secure TLS (Transport Layer Security) connection\n",
    "\n",
    "server.starttls()"
   ]
  },
  {
   "cell_type": "code",
   "execution_count": null,
   "id": "ee5eb3c1",
   "metadata": {},
   "outputs": [],
   "source": [
    "# Log in to the SMTP server using your email credentials\n",
    "server.login(\"patelsavan3027@gmail.com\", \"\")"
   ]
  },
  {
   "cell_type": "code",
   "execution_count": null,
   "id": "93ee9510",
   "metadata": {},
   "outputs": [],
   "source": [
    "# Define a function to generate a 6-digit random OTP\n",
    "def OTP():\n",
    "     # Generate a random number between 100000 and 999999\n",
    "    number = random.randint(100000,999999)\n",
    "    # Return the generated number as the OTP\n",
    "\n",
    "    return number\n",
    "    "
   ]
  },
  {
   "cell_type": "code",
   "execution_count": null,
   "id": "0b81fd4e",
   "metadata": {},
   "outputs": [],
   "source": [
    "# Call the OTP() function and store the generated 6-digit OTP in a variable\n",
    "\n",
    "OTP_value = OTP()"
   ]
  },
  {
   "cell_type": "code",
   "execution_count": null,
   "id": "16fbf0ad",
   "metadata": {},
   "outputs": [],
   "source": [
    "# OTP_value holds the 6-digit number returned by the OTP() function\n",
    "\n",
    "OTP_value"
   ]
  },
  {
   "cell_type": "code",
   "execution_count": null,
   "id": "6824192d",
   "metadata": {},
   "outputs": [],
   "source": [
    "# Store the email login credentials\n",
    "\n",
    "login = \"patelsavan3027@gmail.com\"\n",
    "password = \"wlzu rpab ovwj ioao\""
   ]
  },
  {
   "cell_type": "code",
   "execution_count": null,
   "id": "8e8815df",
   "metadata": {},
   "outputs": [],
   "source": [
    "# subject = \"Send an email for OTP\""
   ]
  },
  {
   "cell_type": "code",
   "execution_count": null,
   "id": "bff249d9",
   "metadata": {},
   "outputs": [],
   "source": [
    "# body = f'Your OTP is: {OTP_value}'"
   ]
  },
  {
   "cell_type": "code",
   "execution_count": null,
   "id": "c1cd0db0",
   "metadata": {},
   "outputs": [],
   "source": [
    "# sender_email = \"patelsavan3027@gmail.com\""
   ]
  },
  {
   "cell_type": "code",
   "execution_count": null,
   "id": "ac87e7ee",
   "metadata": {},
   "outputs": [],
   "source": [
    "# receiver_email = \"sp356965@gmail.com\""
   ]
  },
  {
   "cell_type": "code",
   "execution_count": null,
   "id": "f6fc597e",
   "metadata": {},
   "outputs": [],
   "source": [
    "# message = MIMEText(body,\"plain\")"
   ]
  },
  {
   "cell_type": "code",
   "execution_count": null,
   "id": "1b1f8447",
   "metadata": {},
   "outputs": [],
   "source": [
    "# message['subject'] = subject"
   ]
  },
  {
   "cell_type": "code",
   "execution_count": null,
   "id": "0b5307d5",
   "metadata": {},
   "outputs": [],
   "source": [
    "# message['body'] = body"
   ]
  },
  {
   "cell_type": "code",
   "execution_count": null,
   "id": "1b56038d",
   "metadata": {},
   "outputs": [],
   "source": [
    "# message['From'] = sender_email"
   ]
  },
  {
   "cell_type": "code",
   "execution_count": null,
   "id": "3b9f210a",
   "metadata": {},
   "outputs": [],
   "source": [
    "# message['To'] = receiver_email"
   ]
  },
  {
   "cell_type": "code",
   "execution_count": null,
   "id": "eb4f3820",
   "metadata": {},
   "outputs": [],
   "source": [
    "# with smtplib.SMTP(smtp_server, port) as server:\n",
    "#     server.starttls()\n",
    "#     server.login(login, password)\n",
    "#     server.sendmail(sender_email,receiver_email, message.as_string())"
   ]
  },
  {
   "cell_type": "code",
   "execution_count": null,
   "id": "2de11c71",
   "metadata": {},
   "outputs": [],
   "source": [
    "# Define a function to format and send an OTP email\n",
    "\n",
    "def email_format(OTP):\n",
    "    # Email subject\n",
    "    subject = \"Send an email for OTP\"\n",
    "     # Email body with the OTP\n",
    "\n",
    "    body = f'Your OTP is: {OTP_value}'\n",
    "    # Sender and receiver email addresses\n",
    "\n",
    "    sender_email = \"patelsavan3027@gmail.com\"\n",
    "    receiver_email = \"sp356965@gmail.com\"\n",
    "    \n",
    "    # Create a MIMEText object with the plain text body\n",
    "\n",
    "    message = MIMEText(body,\"plain\")\n",
    "    # Set the email headers\n",
    "    \n",
    "    message['subject'] = subject\n",
    "    message['body'] = body\n",
    "    message['From'] = sender_email\n",
    "    message['To'] = receiver_email\n",
    "    \n",
    "     # Send the email using SMTP\n",
    "    with smtplib.SMTP(smtp_server, port) as server:\n",
    "        server.starttls()\n",
    "        server.login(login, password)\n",
    "        server.sendmail(sender_email,receiver_email, message.as_string())\n",
    "    "
   ]
  },
  {
   "cell_type": "code",
   "execution_count": null,
   "id": "28e7cb69",
   "metadata": {},
   "outputs": [],
   "source": [
    "email_format(OTP)"
   ]
  },
  {
   "cell_type": "code",
   "execution_count": null,
   "id": "1fd77c74",
   "metadata": {},
   "outputs": [],
   "source": [
    "# Define a function to get OTP input from the user and handle invalid entries\n",
    "\n",
    "def enter():\n",
    "    try:\n",
    "        # Prompt the user to enter the OTP and convert to integer\n",
    "\n",
    "        user_enter = int(input(\"Enter the OTP: \"))\n",
    "        return user_enter\n",
    "    except ValueError:\n",
    "            # Print error message if the input is not a number\n",
    "\n",
    "            print(\"Invalid input. Please enter a 6-digit numeric OTP.\")\n",
    "    "
   ]
  },
  {
   "cell_type": "code",
   "execution_count": null,
   "id": "1db4df91",
   "metadata": {},
   "outputs": [],
   "source": [
    "# Define a function to allow the user 5 attempts to enter the correct OTP\n",
    "\n",
    "def three():\n",
    "    for i in range(5):  # Loop allows 5 attempts\n",
    "        enter_otp = enter() # Get OTP input from user\n",
    "        if OTP_value == enter_otp:\n",
    "            print(\"Success\")\n",
    "            break   # Exit loop if OTP is correct\n",
    "\n",
    "        else:\n",
    "            print(f\"Attempt left: {4 - i}\")"
   ]
  },
  {
   "cell_type": "code",
   "execution_count": null,
   "id": "3d7053b8",
   "metadata": {},
   "outputs": [],
   "source": [
    "three()"
   ]
  },
  {
   "cell_type": "code",
   "execution_count": null,
   "id": "9bf99446",
   "metadata": {},
   "outputs": [],
   "source": [
    "# Define a function that keeps asking for OTP until the correct one is entered\n",
    "\n",
    "def wh():\n",
    "    while True:\n",
    "        enter_otp = enter() # Get OTP input from the user\n",
    "        if OTP_value == enter_otp:\n",
    "            print(\"Success\")\n",
    "            break # Exit the loop once the correct OTP is entered\n",
    "        else:\n",
    "            print(\"Try again\")"
   ]
  },
  {
   "cell_type": "code",
   "execution_count": null,
   "id": "258bd872",
   "metadata": {},
   "outputs": [],
   "source": [
    "wh()"
   ]
  },
  {
   "cell_type": "code",
   "execution_count": null,
   "id": "adecf680",
   "metadata": {},
   "outputs": [],
   "source": []
  },
  {
   "cell_type": "code",
   "execution_count": null,
   "id": "41485fbd",
   "metadata": {},
   "outputs": [],
   "source": []
  },
  {
   "cell_type": "code",
   "execution_count": null,
   "id": "adeb11b7",
   "metadata": {},
   "outputs": [],
   "source": []
  },
  {
   "cell_type": "code",
   "execution_count": null,
   "id": "74cacae8",
   "metadata": {},
   "outputs": [],
   "source": []
  },
  {
   "cell_type": "code",
   "execution_count": null,
   "id": "66b80d65",
   "metadata": {},
   "outputs": [],
   "source": []
  },
  {
   "cell_type": "code",
   "execution_count": null,
   "id": "ad21ba78",
   "metadata": {},
   "outputs": [],
   "source": [
    "# Doudt\n",
    "# def verify():\n",
    "\n",
    "#     if OTP == enter_otp:\n",
    "#         print(\"Success\")\n",
    "#     else:\n",
    "#         print(\"Try again\")"
   ]
  },
  {
   "cell_type": "code",
   "execution_count": null,
   "id": "0674d1b1",
   "metadata": {},
   "outputs": [],
   "source": [
    "# verify()"
   ]
  }
 ],
 "metadata": {
  "kernelspec": {
   "display_name": "Python 3 (ipykernel)",
   "language": "python",
   "name": "python3"
  },
  "language_info": {
   "codemirror_mode": {
    "name": "ipython",
    "version": 3
   },
   "file_extension": ".py",
   "mimetype": "text/x-python",
   "name": "python",
   "nbconvert_exporter": "python",
   "pygments_lexer": "ipython3",
   "version": "3.11.5"
  }
 },
 "nbformat": 4,
 "nbformat_minor": 5
}
